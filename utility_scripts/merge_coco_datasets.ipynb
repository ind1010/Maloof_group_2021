{
  "nbformat": 4,
  "nbformat_minor": 0,
  "metadata": {
    "colab": {
      "name": "merge_coco_datasets.ipynb",
      "provenance": [],
      "collapsed_sections": []
    },
    "kernelspec": {
      "display_name": "maloofGroupEnv",
      "language": "python",
      "name": "maloofgroupenv"
    },
    "language_info": {
      "name": "python"
    }
  },
  "cells": [
    {
      "cell_type": "markdown",
      "metadata": {
        "id": "NwdqcCwrg_YZ"
      },
      "source": [
        "## Merge COCO Annotations using COCO-Assistant\n",
        "### Author: Indu Panigrahi\n",
        "Based on documentation: https://pypi.org/project/coco-assistant/"
      ]
    },
    {
      "cell_type": "code",
      "metadata": {
        "id": "4gQJ7xkFkCBZ"
      },
      "source": [
        "!pip install coco-assistant"
      ],
      "execution_count": null,
      "outputs": []
    },
    {
      "cell_type": "code",
      "metadata": {
        "id": "plGOlBDnkEzu"
      },
      "source": [
        "from coco_assistant import COCO_Assistant\n",
        "import os"
      ],
      "execution_count": 2,
      "outputs": []
    },
    {
      "cell_type": "code",
      "metadata": {
        "colab": {
          "base_uri": "https://localhost:8080/"
        },
        "id": "c-3YQWTAktBE",
        "outputId": "b2a25c63-3c25-4b9f-9160-aea9d6cd3feb"
      },
      "source": [
        "# Mount your Google Drive\n",
        "from google.colab import drive\n",
        "drive.mount('/content/drive/')"
      ],
      "execution_count": 3,
      "outputs": [
        {
          "output_type": "stream",
          "text": [
            "Mounted at /content/drive/\n"
          ],
          "name": "stdout"
        }
      ]
    },
    {
      "cell_type": "markdown",
      "metadata": {
        "id": "K84qIKe5ettB"
      },
      "source": [
        "<u>Structure of directories</u><br>\n",
        "Say that you want to combine coco annotations of image1.tif and image2.tif into one json. Starting from the current directory, the directory structure should be: <br>\n",
        "images/<br>\n",
        "&nbsp;&nbsp;&nbsp;&nbsp;&nbsp;&nbsp; image1.tif<br>\n",
        "&nbsp;&nbsp;&nbsp;&nbsp;&nbsp;&nbsp; image2.tif<br>\n",
        "annotations/<br>\n",
        "&nbsp;&nbsp;&nbsp;&nbsp;&nbsp;&nbsp; image1.json<br>\n",
        "&nbsp;&nbsp;&nbsp;&nbsp;&nbsp;&nbsp; image2.json<br>\n",
        "Note that the json for an image must have the same name as the image.<br><br>\n",
        "For reference, my directory structure was:<br>\n",
        "content/drive/My Drive/Colab Notebooks/merge_these/<br>\n",
        "&nbsp;&nbsp;&nbsp;&nbsp;&nbsp;&nbsp;images/<br>\n",
        "&nbsp;&nbsp;&nbsp;&nbsp;&nbsp;&nbsp;&nbsp;&nbsp;&nbsp;&nbsp;&nbsp;&nbsp; image1.tif<br>\n",
        "&nbsp;&nbsp;&nbsp;&nbsp;&nbsp;&nbsp;&nbsp;&nbsp;&nbsp;&nbsp;&nbsp;&nbsp; image2.tif<br>\n",
        "&nbsp;&nbsp;&nbsp;&nbsp;&nbsp;&nbsp;annotations/<br>\n",
        "&nbsp;&nbsp;&nbsp;&nbsp;&nbsp;&nbsp;&nbsp;&nbsp;&nbsp;&nbsp;&nbsp;&nbsp; image1.json<br>\n",
        "&nbsp;&nbsp;&nbsp;&nbsp;&nbsp;&nbsp;&nbsp;&nbsp;&nbsp;&nbsp;&nbsp;&nbsp; image2.json<br>\n",
        "If you want to combine 2 annotation files one or both of which have annotations for more than one image, instead of the image name matching the json name, there should be subdirectories in images/ which contains the images for each json and which match the corresponding json name."
      ]
    },
    {
      "cell_type": "code",
      "metadata": {
        "colab": {
          "base_uri": "https://localhost:8080/"
        },
        "id": "XysTImPake37",
        "outputId": "24e8575b-f225-40a3-ca59-21a5cb2c93e8"
      },
      "source": [
        "# Running the cell might generate a message that the results directory does not exist.\n",
        "# If this happens, either make your own results directory or just rerun the cell.\n",
        "# It creates a results directory when it generates that message.\n",
        "img_dir = os.path.join('/content/drive/My Drive/Colab Notebooks/merge_these', 'images') # image directory\n",
        "ann_dir = os.path.join('/content/drive/My Drive/Colab Notebooks/merge_these', 'annotations') # annotation directory\n",
        "\n",
        "cas = COCO_Assistant(img_dir, ann_dir)"
      ],
      "execution_count": 4,
      "outputs": [
        {
          "output_type": "stream",
          "text": [
            "loading annotations into memory...\n",
            "Done (t=0.63s)\n",
            "creating index...\n",
            "index created!\n",
            "loading annotations into memory...\n",
            "Done (t=0.49s)\n",
            "creating index...\n",
            "index created!\n",
            "loading annotations into memory...\n",
            "Done (t=0.26s)\n",
            "creating index...\n",
            "index created!\n"
          ],
          "name": "stdout"
        }
      ]
    },
    {
      "cell_type": "code",
      "metadata": {
        "colab": {
          "base_uri": "https://localhost:8080/"
        },
        "id": "makQYz1VndaI",
        "outputId": "54bc0b23-680d-4545-a9f0-80b604c709a9"
      },
      "source": [
        "cas.merge(merge_images=True) # The merged dataset is in ./results/merged, the json is in ./results/merged/annotations"
      ],
      "execution_count": 5,
      "outputs": [
        {
          "output_type": "stream",
          "text": [
            "100%|██████████| 3/3 [00:00<00:00, 886.50it/s]\n",
            "100%|██████████| 3/3 [00:00<00:00, 30.46it/s]"
          ],
          "name": "stderr"
        },
        {
          "output_type": "stream",
          "text": [
            "Merging image dirs\n",
            "Merging annotations\n"
          ],
          "name": "stdout"
        },
        {
          "output_type": "stream",
          "text": [
            "\n"
          ],
          "name": "stderr"
        }
      ]
    }
  ]
}