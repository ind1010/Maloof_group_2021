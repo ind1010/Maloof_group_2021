{
 "cells": [
  {
   "cell_type": "markdown",
   "metadata": {
    "id": "NwdqcCwrg_YZ"
   },
   "source": [
    "## Merge COCO Annotations using COCO-Assistant\n",
    "### Author: Indu Panigrahi\n",
    "Based on documentation: https://pypi.org/project/coco-assistant/"
   ]
  },
  {
   "cell_type": "code",
   "execution_count": 1,
   "metadata": {
    "colab": {
     "base_uri": "https://localhost:8080/"
    },
    "id": "4gQJ7xkFkCBZ",
    "outputId": "4ffd1733-3fc3-47dd-baa8-ae1286ad8607"
   },
   "outputs": [
    {
     "name": "stdout",
     "output_type": "stream",
     "text": [
      "Collecting coco-assistant\n",
      "  Downloading https://files.pythonhosted.org/packages/18/a2/f45d27d15d41a691ea21a89722b3d92022109a2aaf34a004d7821d82a337/coco_assistant-0.3.5-py3-none-any.whl\n",
      "\u001b[31mERROR: Operation cancelled by user\u001b[0m\n"
     ]
    }
   ],
   "source": [
    "!pip install coco-assistant"
   ]
  },
  {
   "cell_type": "code",
   "execution_count": null,
   "metadata": {
    "id": "plGOlBDnkEzu"
   },
   "outputs": [],
   "source": [
    "from coco_assistant import COCO_Assistant\n",
    "import os"
   ]
  },
  {
   "cell_type": "code",
   "execution_count": 5,
   "metadata": {
    "colab": {
     "base_uri": "https://localhost:8080/"
    },
    "id": "c-3YQWTAktBE",
    "outputId": "e15b63ed-38ed-4934-f3a9-9892538e55ec"
   },
   "outputs": [
    {
     "name": "stdout",
     "output_type": "stream",
     "text": [
      "Mounted at /content/drive/\n"
     ]
    }
   ],
   "source": [
    "# Mount your Google Drive\n",
    "from google.colab import drive\n",
    "drive.mount('/content/drive/')"
   ]
  },
  {
   "cell_type": "markdown",
   "metadata": {
    "id": "K84qIKe5ettB"
   },
   "source": [
    "<u>Structure of directories</u><br>\n",
    "Say that you want to combine coco annotations of image1.tif and image2.tif into one json. Starting from the current directory, the directory structure should be: <br>\n",
    "images/<br>\n",
    "&nbsp;&nbsp;&nbsp;&nbsp;&nbsp;&nbsp; image1.tif<br>\n",
    "&nbsp;&nbsp;&nbsp;&nbsp;&nbsp;&nbsp; image2.tif<br>\n",
    "annotations/<br>\n",
    "&nbsp;&nbsp;&nbsp;&nbsp;&nbsp;&nbsp; image1.json<br>\n",
    "&nbsp;&nbsp;&nbsp;&nbsp;&nbsp;&nbsp; image2.json<br>\n",
    "Note that the json for an image must have the same name as the image.<br><br>\n",
    "For reference, my directory structure was:<br>\n",
    "content/drive/My Drive/Colab Notebooks/merge_these/<br>\n",
    "&nbsp;&nbsp;&nbsp;&nbsp;&nbsp;&nbsp;images/<br>\n",
    "&nbsp;&nbsp;&nbsp;&nbsp;&nbsp;&nbsp;&nbsp;&nbsp;&nbsp;&nbsp;&nbsp;&nbsp; image1.tif<br>\n",
    "&nbsp;&nbsp;&nbsp;&nbsp;&nbsp;&nbsp;&nbsp;&nbsp;&nbsp;&nbsp;&nbsp;&nbsp; image2.tif<br>\n",
    "&nbsp;&nbsp;&nbsp;&nbsp;&nbsp;&nbsp;annotations/<br>\n",
    "&nbsp;&nbsp;&nbsp;&nbsp;&nbsp;&nbsp;&nbsp;&nbsp;&nbsp;&nbsp;&nbsp;&nbsp; image1.json<br>\n",
    "&nbsp;&nbsp;&nbsp;&nbsp;&nbsp;&nbsp;&nbsp;&nbsp;&nbsp;&nbsp;&nbsp;&nbsp; image2.json<br>"
   ]
  },
  {
   "cell_type": "code",
   "execution_count": null,
   "metadata": {
    "colab": {
     "base_uri": "https://localhost:8080/"
    },
    "id": "XysTImPake37",
    "outputId": "d1d58ba3-1f99-4cbe-9780-bf20ab3cdb28"
   },
   "outputs": [
    {
     "name": "stdout",
     "output_type": "stream",
     "text": [
      "loading annotations into memory...\n",
      "Done (t=0.19s)\n",
      "creating index...\n",
      "index created!\n",
      "loading annotations into memory...\n",
      "Done (t=0.32s)\n",
      "creating index...\n",
      "index created!\n"
     ]
    }
   ],
   "source": [
    "# Running the cell might generate a message that the results directory does not exist.\n",
    "# If this happens, either make your own results directory or just rerun the cell.\n",
    "# It creates a results directory when it generates that message.\n",
    "img_dir = os.path.join('/content/drive/My Drive/Colab Notebooks/merge_these', 'images') # image directory\n",
    "ann_dir = os.path.join('/content/drive/My Drive/Colab Notebooks/merge_these', 'annotations') # annotation directory\n",
    "\n",
    "cas = COCO_Assistant(img_dir, ann_dir)"
   ]
  },
  {
   "cell_type": "code",
   "execution_count": null,
   "metadata": {
    "colab": {
     "base_uri": "https://localhost:8080/"
    },
    "id": "makQYz1VndaI",
    "outputId": "d020041f-0b9e-4860-e528-7e5ceb0d93e6"
   },
   "outputs": [
    {
     "name": "stderr",
     "output_type": "stream",
     "text": [
      "100%|██████████| 2/2 [00:00<00:00, 433.52it/s]\n",
      "100%|██████████| 2/2 [00:00<00:00, 65.49it/s]"
     ]
    },
    {
     "name": "stdout",
     "output_type": "stream",
     "text": [
      "Merging image dirs\n",
      "Merging annotations\n"
     ]
    },
    {
     "name": "stderr",
     "output_type": "stream",
     "text": [
      "\n"
     ]
    }
   ],
   "source": [
    "cas.merge(merge_images=True) # The merged dataset is in ./results/merged, the json is in ./results/merged/annotations"
   ]
  }
 ],
 "metadata": {
  "colab": {
   "collapsed_sections": [],
   "name": "merge_coco_datasets.ipynb",
   "provenance": []
  },
  "kernelspec": {
   "display_name": "maloofGroupEnv",
   "language": "python",
   "name": "maloofgroupenv"
  },
  "language_info": {
   "name": "python"
  }
 },
 "nbformat": 4,
 "nbformat_minor": 4
}
