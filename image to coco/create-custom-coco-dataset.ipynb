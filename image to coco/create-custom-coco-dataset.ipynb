{
 "cells": [
  {
   "cell_type": "markdown",
   "metadata": {},
   "source": [
    "Converts image and mask to coco json annotation format, adapted from https://github.com/chrise96/image-to-coco-json-converter"
   ]
  },
  {
   "cell_type": "code",
   "execution_count": 1,
   "metadata": {},
   "outputs": [],
   "source": [
    "import glob\n",
    "\n",
    "from src.create_annotations import *"
   ]
  },
  {
   "cell_type": "markdown",
   "metadata": {},
   "source": [
    "Manually establish classes"
   ]
  },
  {
   "cell_type": "code",
   "execution_count": 2,
   "metadata": {},
   "outputs": [],
   "source": [
    "# Label ids of the dataset\n",
    "category_ids = {\n",
    "    \"0\": 0,\n",
    "    \"1\": 1,\n",
    "    \"2\": 2,\n",
    "    \"3\": 3,\n",
    "    \"4\": 4,\n",
    "    \"5\": 5\n",
    "}\n",
    "\n",
    "# Define which colors match which categories in the images\n",
    "category_colors = {\n",
    "    \"(122, 0, 38)\": 0, # \n",
    "    \"(237, 20, 91)\": 1, # \n",
    "    \"(146, 39, 143)\": 2, # \n",
    "    \"(255, 0, 255)\": 3, # \n",
    "    \"(0, 0, 255)\": 4, # \n",
    "    \"(46, 49, 146)\": 5, # \n",
    "    \n",
    "}\n",
    "\n",
    "# Define the ids that are a multiplolygon\n",
    "multipolygon_ids = []"
   ]
  },
  {
   "cell_type": "markdown",
   "metadata": {},
   "source": [
    "Put the image(s) in dataset\\image, and the masks in dataset\\image_mask"
   ]
  },
  {
   "cell_type": "code",
   "execution_count": 8,
   "metadata": {},
   "outputs": [
    {
     "name": "stdout",
     "output_type": "stream",
     "text": [
      "Created 204 annotations for images in folder: dataset/train_mask/\n"
     ]
    }
   ],
   "source": [
    "# Get \"images\" and \"annotations\" info \n",
    "def images_annotations_info(maskpath):\n",
    "    # This id will be automatically increased as we go\n",
    "    annotation_id = 0\n",
    "    image_id = 0\n",
    "    annotations = []\n",
    "    images = []\n",
    "    \n",
    "    for mask_image in glob.glob(maskpath + \"*.tif\"):\n",
    "        # We make a reference to the original file in the COCO JSON file\n",
    "        original_file_name = os.path.basename(mask_image).split(\".\")[0] + \".tif\"\n",
    "\n",
    "        # Open the image and (to be sure) we convert it to RGB\n",
    "        mask_image_open = Image.open(mask_image).convert(\"RGB\")\n",
    "        w, h = mask_image_open.size\n",
    "        \n",
    "        # \"images\" info \n",
    "        image = create_image_annotation(original_file_name, w, h, image_id)\n",
    "        images.append(image)\n",
    "\n",
    "        sub_masks = create_sub_masks(mask_image_open, w, h)\n",
    "        for color, sub_mask in sub_masks.items():\n",
    "            category_id = category_colors[color]\n",
    "\n",
    "            # \"annotations\" info\n",
    "            polygons, segmentations = create_sub_mask_annotation(sub_mask)\n",
    "\n",
    "            # Check if we have classes that are a multipolygon\n",
    "            if category_id in multipolygon_ids:\n",
    "                # Combine the polygons to calculate the bounding box and area\n",
    "                multi_poly = MultiPolygon(polygons)\n",
    "                                \n",
    "                annotation = create_annotation_format(multi_poly, segmentations, image_id, category_id, annotation_id)\n",
    "\n",
    "                annotations.append(annotation)\n",
    "                annotation_id += 1\n",
    "            else:\n",
    "                for i in range(len(polygons)):\n",
    "                    # Cleaner to recalculate this variable\n",
    "                    segmentation = [np.array(polygons[i].exterior.coords).ravel().tolist()]\n",
    "                    \n",
    "                    annotation = create_annotation_format(polygons[i], segmentation, image_id, category_id, annotation_id)\n",
    "                    \n",
    "                    annotations.append(annotation)\n",
    "                    annotation_id += 1\n",
    "        image_id += 1\n",
    "    return images, annotations, annotation_id\n",
    "\n",
    "if __name__ == \"__main__\":\n",
    "    # Get the standard COCO JSON format\n",
    "    coco_format = get_coco_json_format()\n",
    "    \n",
    "    for keyword in [\"image\"]:\n",
    "        mask_path = \"dataset/{}_mask/\".format(keyword)\n",
    "        \n",
    "        # Create category section\n",
    "        coco_format[\"categories\"] = create_category_annotation(category_ids)\n",
    "    \n",
    "        # Create images and annotations sections\n",
    "        coco_format[\"images\"], coco_format[\"annotations\"], annotation_cnt = images_annotations_info(mask_path)\n",
    "\n",
    "        with open(\"output/{}.json\".format(keyword),\"w\") as outfile:\n",
    "            json.dump(coco_format, outfile)\n",
    "        \n",
    "        print(\"Created %d annotations for images in folder: %s\" % (annotation_cnt, mask_path))\n"
   ]
  },
  {
   "cell_type": "markdown",
   "metadata": {},
   "source": [
    "json will be in output folder"
   ]
  },
  {
   "cell_type": "markdown",
   "metadata": {},
   "source": [
    "##### "
   ]
  }
 ],
 "metadata": {
  "kernelspec": {
   "display_name": "Python 3",
   "language": "python",
   "name": "python3"
  },
  "language_info": {
   "codemirror_mode": {
    "name": "ipython",
    "version": 3
   },
   "file_extension": ".py",
   "mimetype": "text/x-python",
   "name": "python",
   "nbconvert_exporter": "python",
   "pygments_lexer": "ipython3",
   "version": "3.8.10"
  }
 },
 "nbformat": 4,
 "nbformat_minor": 4
}
